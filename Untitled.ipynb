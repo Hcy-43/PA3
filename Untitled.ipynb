{
 "cells": [
  {
   "cell_type": "code",
   "execution_count": 1,
   "id": "5cd69d19",
   "metadata": {},
   "outputs": [],
   "source": [
    "from keras_bert import extract_embeddings\n",
    "from keras_bert import load_vocabulary\n",
    "from keras_bert import Tokenizer"
   ]
  },
  {
   "cell_type": "code",
   "execution_count": null,
   "id": "a4da33f2",
   "metadata": {},
   "outputs": [],
   "source": [
    "model_path = 'uncased_L-12_H-768_A-12'\n",
    "dict_path = 'uncased_L-12_H-768_A-12/vocab.txt'"
   ]
  },
  {
   "cell_type": "code",
   "execution_count": 2,
   "id": "73df7133",
   "metadata": {},
   "outputs": [
    {
     "name": "stdout",
     "output_type": "stream",
     "text": [
      "3.9.12 (main, Apr  5 2022, 01:53:17) \n",
      "[Clang 12.0.0 ]\n"
     ]
    }
   ],
   "source": [
    "bert_token_dict = load_vocabulary(dict_path)\n",
    "bert_tokenizer = Tokenizer(bert_token_dict)"
   ]
  },
  {
   "cell_type": "code",
   "execution_count": null,
   "id": "06b1766d",
   "metadata": {},
   "outputs": [],
   "source": [
    "import numpy as np\n",
    "corpus = [] \n",
    "dct = {}\n",
    "for i in range(1, 1096):\n",
    "    f = ('PA1-data/' + str(i) + '.txt')\n",
    "    corpus.append(f)\n",
    "    dct[i] = 0\n",
    "tr = open('training.txt')\n",
    "tt = []\n",
    "for line in tr:\n",
    "    tt.append(line)\n",
    "texts = []\n",
    "labels = []\n",
    "\n",
    "for i in range(0, 13):\n",
    "    tt[i] = tt[i].split()\n",
    "    for j in range(1, 16):\n",
    "        dct.pop(int(tt[i][j]))\n",
    "        corpus.remove('PA1-data/' + str(tt[i][j]) + '.txt')\n",
    "        texts.append('PA1-data/' + str(tt[i][j]) + '.txt')\n",
    "        labels.append(int(i+1))\n",
    "texts.extend(corpus)"
   ]
  },
  {
   "cell_type": "code",
   "execution_count": null,
   "id": "0a14bacb",
   "metadata": {},
   "outputs": [],
   "source": [
    "text = []\n",
    "for i in range(1095):\n",
    "    f = open(texts[i])\n",
    "    article = \"\"\n",
    "    for line in f:\n",
    "        article += line[:-1]\n",
    "        article += \" \"\n",
    "    text.append(article)\n",
    "    f.close()"
   ]
  },
  {
   "cell_type": "code",
   "execution_count": 1,
   "id": "d3da2305",
   "metadata": {},
   "outputs": [
    {
     "ename": "SyntaxError",
     "evalue": "unexpected EOF while parsing (149104261.py, line 1)",
     "output_type": "error",
     "traceback": [
      "\u001b[0;36m  Input \u001b[0;32mIn [1]\u001b[0;36m\u001b[0m\n\u001b[0;31m    print(\u001b[0m\n\u001b[0m          ^\u001b[0m\n\u001b[0;31mSyntaxError\u001b[0m\u001b[0;31m:\u001b[0m unexpected EOF while parsing\n"
     ]
    }
   ],
   "source": [
    "print("
   ]
  },
  {
   "cell_type": "code",
   "execution_count": null,
   "id": "1c5866c9",
   "metadata": {},
   "outputs": [],
   "source": []
  }
 ],
 "metadata": {
  "kernelspec": {
   "display_name": "Python 3 (ipykernel)",
   "language": "python",
   "name": "python3"
  },
  "language_info": {
   "codemirror_mode": {
    "name": "ipython",
    "version": 3
   },
   "file_extension": ".py",
   "mimetype": "text/x-python",
   "name": "python",
   "nbconvert_exporter": "python",
   "pygments_lexer": "ipython3",
   "version": "3.9.12"
  }
 },
 "nbformat": 4,
 "nbformat_minor": 5
}
